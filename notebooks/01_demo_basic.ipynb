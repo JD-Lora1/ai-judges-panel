{
  "cells": [
    {
      "cell_type": "markdown",
      "metadata": {
        "id": "intro"
      },
      "source": [
        "# 🏛️ AI Judges Panel - Demostración Básica\n",
        "## Evaluación Multi-Agente de LLMs\n",
        "\n",
        "Bienvenido al **AI Judges Panel**, donde múltiples LLMs especializados evalúan respuestas de otros LLMs desde diferentes perspectivas.\n",
        "\n",
        "### 🎯 Lo que aprenderás:\n",
        "- Cómo funciona la arquitectura de panel de jueces\n",
        "- Evaluación multi-dimensional automática\n",
        "- Interpretación de consensos y discrepancias\n",
        "- Comparación con métricas automáticas tradicionales\n",
        "\n",
        "### 🧠 Panel de Jueces:\n",
        "- **🎯 Dr. Precisión**: Evalúa factualidad y exactitud\n",
        "- **🎨 Dra. Creatividad**: Evalúa originalidad e innovación  \n",
        "- **🧠 Prof. Coherencia**: Evalúa lógica y estructura\n",
        "- **🎪 Lic. Relevancia**: Evalúa pertinencia a la pregunta\n",
        "- **⚡ Ed. Eficiencia**: Evalúa claridad y concisión"
      ]
    },
    {
      "cell_type": "markdown",
      "metadata": {
        "id": "setup"
      },
      "source": [
        "## 1. 🔧 Setup e Importaciones"
      ]
    },
    {
      "cell_type": "code",
      "execution_count": null,
      "metadata": {
        "id": "imports"
      },
      "outputs": [],
      "source": [
        "# Importaciones necesarias\n",
        "import sys\n",
        "import os\n",
        "\n",
        "# Agregar el path del proyecto\n",
        "project_path = os.path.abspath('../src')\n",
        "if project_path not in sys.path:\n",
        "    sys.path.append(project_path)\n",
        "\n",
        "# Importar nuestras clases\n",
        "from evaluators.meta_evaluator import MetaEvaluator, ComprehensiveEvaluation\n",
        "from judges.precision_judge import PrecisionJudge\n",
        "from judges.base_judge import EvaluationContext\n",
        "\n",
        "import json\n",
        "import matplotlib.pyplot as plt\n",
        "import seaborn as sns\n",
        "import pandas as pd\n",
        "import numpy as np\n",
        "from IPython.display import display, HTML, Markdown\n",
        "\n",
        "print(\"✅ Importaciones completadas\")\n",
        "print(\"🏛️ AI Judges Panel listo para usar\")"
      ]
    },
    {
      "cell_type": "markdown",
      "metadata": {
        "id": "initialize"
      },
      "source": [
        "## 2. 🏗️ Inicialización del Panel de Jueces"
      ]
    },
    {
      "cell_type": "code",
      "execution_count": null,
      "metadata": {
        "id": "init_panel"
      },
      "outputs": [],
      "source": [
        "# Inicializar el Meta-Evaluador con panel completo\n",
        "evaluator = MetaEvaluator()\n",
        "\n",
        "print(\"🏛️ Panel de Jueces Inicializado:\")\n",
        "print(f\"📊 Total de jueces: {len(evaluator.judges)}\")\n",
        "print(\"\\n👨‍⚖️ Jueces especializados:\")\n",
        "for judge in evaluator.judges:\n",
        "    print(f\"  - {judge}\")\n",
        "    \n",
        "print(\"\\n⚖️ Pesos de evaluación:\")\n",
        "for aspect, weight in evaluator.weights.items():\n",
        "    print(f\"  - {aspect.title()}: {weight:.1%}\")"
      ]
    },
    {
      "cell_type": "markdown",
      "metadata": {
        "id": "demo_data"
      },
      "source": [
        "## 3. 📝 Casos de Prueba\n",
        "\n",
        "Vamos a evaluar diferentes respuestas a la misma pregunta para ver cómo reacciona nuestro panel de jueces."
      ]
    },
    {
      "cell_type": "code",
      "execution_count": null,
      "metadata": {
        "id": "test_cases"
      },
      "outputs": [],
      "source": [
        "# Definir casos de prueba\n",
        "test_cases = {\n",
        "    \"prompt\": \"Explica qué es la inteligencia artificial y cómo impacta la sociedad moderna.\",\n",
        "    \n",
        "    \"responses\": {\n",
        "        \"Respuesta A - Técnica\": \"\"\"\n",
        "La inteligencia artificial (IA) es un campo de la ciencia de la computación que se enfoca en crear sistemas \n",
        "capaces de realizar tareas que normalmente requieren inteligencia humana. Estas tareas incluyen el aprendizaje, \n",
        "el reconocimiento de patrones, la toma de decisiones y el procesamiento del lenguaje natural.\n",
        "\n",
        "La IA utiliza algoritmos de machine learning, redes neuronales y deep learning para procesar grandes cantidades \n",
        "de datos y extraer patrones significativos. Los sistemas de IA pueden clasificarse en IA débil (específica para \n",
        "tareas particulares) e IA fuerte (inteligencia general).\n",
        "\n",
        "En la sociedad moderna, la IA impacta múltiples sectores: automatiza procesos en la industria, mejora diagnósticos \n",
        "médicos, optimiza sistemas de transporte, personaliza experiencias digitales y facilita la investigación científica. \n",
        "Sin embargo, también plantea desafíos éticos sobre privacidad, sesgo algorítmico y desplazamiento laboral.\n",
        "\"\"\",\n",
        "        \n",
        "        \"Respuesta B - Creativa\": \"\"\"\n",
        "Imagina que la humanidad ha creado un nuevo tipo de \"cerebro digital\" - eso es la inteligencia artificial. \n",
        "Como un aprendiz incansable, la IA nunca se cansa de absorber información y encontrar patrones ocultos \n",
        "que nosotros podríamos pasar por alto.\n",
        "\n",
        "La IA es como tener millones de asistentes especializados trabajando 24/7: uno que nunca se equivoca \n",
        "en matemáticas, otro que puede 'ver' tumores en radiografías mejor que médicos experimentados, y otro \n",
        "que predice qué película te gustará antes de que tú lo sepas.\n",
        "\n",
        "Pero aquí está el giro fascinante: estamos creando una sociedad simbiótica. La IA no está reemplazando \n",
        "la inteligencia humana; está amplificándola. Somos como los directores de una orquesta tecnológica, \n",
        "dirigiendo sinfonías de datos hacia soluciones que beneficien a la humanidad.\n",
        "\n",
        "El verdadero impacto no es solo automatización - es liberación. Liberación del trabajo repetitivo \n",
        "para enfocarnos en creatividad, innovación y conexión humana genuina.\n",
        "\"\"\",\n",
        "        \n",
        "        \"Respuesta C - Superficial\": \"\"\"\n",
        "La IA es cuando las computadoras son inteligentes como los humanos. Se usa en muchas cosas \n",
        "como Google y Netflix. Es buena porque ayuda a las personas pero también puede ser mala \n",
        "porque puede quitar trabajos. La IA está en todas partes y va a cambiar el mundo.\n",
        "\"\"\"\n",
        "    }\n",
        "}\n",
        "\n",
        "print(\"📝 Casos de prueba definidos:\")\n",
        "print(f\"❓ Pregunta: {test_cases['prompt']}\")\n",
        "print(f\"📊 Respuestas a evaluar: {len(test_cases['responses'])}\")\n",
        "for name in test_cases['responses'].keys():\n",
        "    print(f\"  - {name}\")"
      ]
    },
    {
      "cell_type": "markdown",
      "metadata": {
        "id": "evaluation_demo"
      },
      "source": [
        "## 4. 🏛️ Evaluación del Panel de Jueces\n",
        "\n",
        "Ahora vamos a someter cada respuesta al panel completo de jueces especializados."
      ]
    },
    {
      "cell_type": "code",
      "execution_count": null,
      "metadata": {
        "id": "run_evaluations"
      },
      "outputs": [],
      "source": [
        "# Ejecutar evaluaciones\n",
        "results = {}\n",
        "\n",
        "print(\"🏛️ Iniciando evaluaciones del panel...\\n\")\n",
        "\n",
        "for response_name, response_text in test_cases[\"responses\"].items():\n",
        "    print(f\"📝 Evaluando: {response_name}\")\n",
        "    print(\"=\" * 50)\n",
        "    \n",
        "    # Realizar evaluación comprehensiva\n",
        "    evaluation = evaluator.evaluate(\n",
        "        prompt=test_cases[\"prompt\"],\n",
        "        response=response_text,\n",
        "        domain=\"AI Education\",\n",
        "        include_automatic_metrics=True\n",
        "    )\n",
        "    \n",
        "    results[response_name] = evaluation\n",
        "    \n",
        "    # Mostrar resultados inmediatos\n",
        "    print(f\"🏆 Score Final: {evaluation.final_score:.1f}/10\")\n",
        "    print(f\"🤝 Consenso: {evaluation.consensus_level:.1%}\")\n",
        "    print(f\"⏱️ Tiempo: {evaluation.evaluation_time:.2f}s\")\n",
        "    \n",
        "    print(\"\\n📊 Scores por aspecto:\")\n",
        "    for aspect, score in evaluation.individual_scores.items():\n",
        "        print(f\"  {aspect.title()}: {score:.1f}/10\")\n",
        "    \n",
        "    print(\"\\n✅ Top 3 Fortalezas:\")\n",
        "    for i, strength in enumerate(evaluation.strengths[:3], 1):\n",
        "        print(f\"  {i}. {strength}\")\n",
        "        \n",
        "    print(\"\\n🔧 Top 3 Mejoras:\")\n",
        "    for i, improvement in enumerate(evaluation.improvements[:3], 1):\n",
        "        print(f\"  {i}. {improvement}\")\n",
        "    \n",
        "    print(\"\\n\" + \"=\"*70 + \"\\n\")\n",
        "\n",
        "print(\"✅ Todas las evaluaciones completadas!\")"
      ]
    },
    {
      "cell_type": "markdown",
      "metadata": {
        "id": "comparison"
      },
      "source": [
        "## 5. 📊 Análisis Comparativo"
      ]
    },
    {
      "cell_type": "code",
      "execution_count": null,
      "metadata": {
        "id": "create_comparison"
      },
      "outputs": [],
      "source": [
        "# Crear DataFrame para análisis\n",
        "comparison_data = []\n",
        "\n",
        "for response_name, evaluation in results.items():\n",
        "    row = {\n",
        "        'Response': response_name,\n",
        "        'Final Score': evaluation.final_score,\n",
        "        'Consensus': evaluation.consensus_level,\n",
        "        'Time (s)': evaluation.evaluation_time\n",
        "    }\n",
        "    \n",
        "    # Agregar scores individuales\n",
        "    for aspect, score in evaluation.individual_scores.items():\n",
        "        row[aspect.title()] = score\n",
        "        \n",
        "    comparison_data.append(row)\n",
        "\n",
        "df = pd.DataFrame(comparison_data)\n",
        "display(df.round(2))"
      ]
    },
    {
      "cell_type": "code",
      "execution_count": null,
      "metadata": {
        "id": "visualizations"
      },
      "outputs": [],
      "source": [
        "# Visualizaciones comparativas\n",
        "fig, axes = plt.subplots(2, 2, figsize=(15, 12))\n",
        "\n",
        "# 1. Scores finales\n",
        "axes[0,0].bar(df['Response'], df['Final Score'], color=['#1f77b4', '#ff7f0e', '#2ca02c'])\n",
        "axes[0,0].set_title('🏆 Score Final por Respuesta', fontsize=14, fontweight='bold')\n",
        "axes[0,0].set_ylabel('Score (0-10)')\n",
        "axes[0,0].set_ylim(0, 10)\n",
        "for i, v in enumerate(df['Final Score']):\n",
        "    axes[0,0].text(i, v + 0.1, f'{v:.1f}', ha='center', fontweight='bold')\n",
        "plt.setp(axes[0,0].xaxis.get_majorticklabels(), rotation=45, ha='right')\n",
        "\n",
        "# 2. Nivel de consenso\n",
        "axes[0,1].bar(df['Response'], df['Consensus'], color=['#d62728', '#9467bd', '#8c564b'])\n",
        "axes[0,1].set_title('🤝 Nivel de Consenso entre Jueces', fontsize=14, fontweight='bold')\n",
        "axes[0,1].set_ylabel('Consenso (0-1)')\n",
        "axes[0,1].set_ylim(0, 1)\n",
        "for i, v in enumerate(df['Consensus']):\n",
        "    axes[0,1].text(i, v + 0.02, f'{v:.1%}', ha='center', fontweight='bold')\n",
        "plt.setp(axes[0,1].xaxis.get_majorticklabels(), rotation=45, ha='right')\n",
        "\n",
        "# 3. Heatmap de scores por aspecto\n",
        "aspect_cols = ['Precision', 'Creativity', 'Coherence', 'Relevance', 'Efficiency']\n",
        "heatmap_data = df[aspect_cols].T  # Transponer para mejor visualización\n",
        "heatmap_data.columns = df['Response']\n",
        "\n",
        "sns.heatmap(heatmap_data, annot=True, cmap='RdYlGn', center=5, \n",
        "            vmin=0, vmax=10, ax=axes[1,0], cbar_kws={'label': 'Score (0-10)'})\n",
        "axes[1,0].set_title('🎯 Scores por Aspecto y Respuesta', fontsize=14, fontweight='bold')\n",
        "axes[1,0].set_ylabel('Aspecto Evaluado')\n",
        "\n",
        "# 4. Radar chart para la mejor respuesta\n",
        "best_response_idx = df['Final Score'].idxmax()\n",
        "best_response_name = df.loc[best_response_idx, 'Response']\n",
        "best_scores = df.loc[best_response_idx, aspect_cols].values\n",
        "\n",
        "angles = np.linspace(0, 2*np.pi, len(aspect_cols), endpoint=False)\n",
        "angles = np.concatenate((angles, [angles[0]]))  # Cerrar el círculo\n",
        "best_scores = np.concatenate((best_scores, [best_scores[0]]))\n",
        "\n",
        "axes[1,1] = plt.subplot(2, 2, 4, projection='polar')\n",
        "axes[1,1].plot(angles, best_scores, 'o-', linewidth=2, color='#ff7f0e')\n",
        "axes[1,1].fill(angles, best_scores, alpha=0.25, color='#ff7f0e')\n",
        "axes[1,1].set_xticks(angles[:-1])\n",
        "axes[1,1].set_xticklabels(aspect_cols)\n",
        "axes[1,1].set_ylim(0, 10)\n",
        "axes[1,1].set_title(f'🌟 Perfil de {best_response_name}', fontsize=14, fontweight='bold', pad=20)\n",
        "\n",
        "plt.tight_layout()\n",
        "plt.show()\n",
        "\n",
        "print(f\"\\n🎉 Análisis visual completado!\")\n",
        "print(f\"🏆 Mejor respuesta: {best_response_name} (Score: {df.loc[best_response_idx, 'Final Score']:.1f})\")"
      ]
    },
    {
      "cell_type": "markdown",
      "metadata": {
        "id": "detailed_analysis"
      },
      "source": [
        "## 6. 🔍 Análisis Detallado del Juez de Precisión"
      ]
    },
    {
      "cell_type": "code",
      "execution_count": null,
      "metadata": {
        "id": "precision_analysis"
      },
      "outputs": [],
      "source": [
        "# Obtener el juez de precisión específicamente\n",
        "precision_judge = None\n",
        "for judge in evaluator.judges:\n",
        "    if judge.name == \"Dr. Precisión\":\n",
        "        precision_judge = judge\n",
        "        break\n",
        "\n",
        "if precision_judge:\n",
        "    print(\"🎯 Análisis Detallado del Dr. Precisión\")\n",
        "    print(\"=\" * 50)\n",
        "    \n",
        "    # Obtener reporte de precisión\n",
        "    precision_report = precision_judge.get_precision_report()\n",
        "    \n",
        "    print(f\"📊 Total de evaluaciones realizadas: {precision_report['total_evaluations']}\")\n",
        "    print(f\"✅ Porcentaje de alta precisión (≥8.0): {precision_report['high_precision_percentage']:.1f}%\")\n",
        "    print(f\"❌ Porcentaje de baja precisión (<5.0): {precision_report['low_precision_percentage']:.1f}%\")\n",
        "    print(f\"🎯 Confianza promedio del juez: {precision_report['average_confidence']:.1%}\")\n",
        "    print(f\"🔒 Confiabilidad del juez: {precision_report['judge_reliability']}\")\n",
        "    \n",
        "    # Análisis detallado de cada evaluación de precisión\n",
        "    print(\"\\n🔍 Detalles de Evaluaciones de Precisión:\")\n",
        "    print(\"-\" * 50)\n",
        "    \n",
        "    for response_name, evaluation in results.items():\n",
        "        if 'precision' in evaluation.detailed_feedback:\n",
        "            precision_eval = evaluation.detailed_feedback['precision']\n",
        "            print(f\"\\n📝 {response_name}:\")\n",
        "            print(f\"   Score: {precision_eval.score:.1f}/10\")\n",
        "            print(f\"   Confianza: {precision_eval.confidence:.1%}\")\n",
        "            print(f\"   Razonamiento: {precision_eval.reasoning[:200]}...\")\n",
        "            \n",
        "            # Información específica de precisión (si está disponible)\n",
        "            if hasattr(precision_eval, 'metadata') and precision_eval.metadata:\n",
        "                if 'factual_claims' in precision_eval.metadata:\n",
        "                    claims = precision_eval.metadata.get('factual_claims', [])\n",
        "                    if claims:\n",
        "                        print(f\"   Afirmaciones factuales detectadas: {len(claims)}\")\n",
        "                        \n",
        "                if 'potential_hallucinations' in precision_eval.metadata:\n",
        "                    hallucinations = precision_eval.metadata.get('potential_hallucinations', [])\n",
        "                    if hallucinations:\n",
        "                        print(f\"   ⚠️ Posibles alucinaciones: {len(hallucinations)}\")\n",
        "                    else:\n",
        "                        print(f\"   ✅ No se detectaron alucinaciones\")\n",
        "else:\n",
        "    print(\"❌ No se encontró el Juez de Precisión en el panel\")"
      ]
    },
    {
      "cell_type": "markdown",
      "metadata": {
        "id": "panel_summary"
      },
      "source": [
        "## 7. 📈 Resumen del Panel Completo"
      ]
    },
    {
      "cell_type": "code",
      "execution_count": null,
      "metadata": {
        "id": "get_panel_summary"
      },
      "outputs": [],
      "source": [
        "# Obtener resumen completo del panel\n",
        "panel_summary = evaluator.get_panel_summary()\n",
        "\n",
        "print(\"🏛️ RESUMEN DEL PANEL DE JUECES\")\n",
        "print(\"=\" * 60)\n",
        "\n",
        "print(f\"📊 Evaluaciones totales realizadas: {panel_summary['total_evaluations']}\")\n",
        "print(f\"🏆 Score promedio final: {panel_summary['average_final_score']}/10\")\n",
        "print(f\"🤝 Consenso promedio: {panel_summary['average_consensus']:.1%}\")\n",
        "print(f\"⏱️ Tiempo promedio de evaluación: {panel_summary['average_evaluation_time']:.2f}s\")\n",
        "print(f\"👨‍⚖️ Total de jueces activos: {panel_summary['judges_count']}\")\n",
        "\n",
        "print(\"\\n🎯 RENDIMIENTO POR ASPECTO:\")\n",
        "print(\"-\" * 40)\n",
        "for aspect, avg_score in panel_summary['aspect_performance'].items():\n",
        "    weight = panel_summary['weights_distribution'].get(aspect, 0)\n",
        "    print(f\"{aspect.title():12} | Score: {avg_score:4.1f} | Peso: {weight:4.1%}\")\n",
        "\n",
        "# Crear visualización del rendimiento del panel\n",
        "fig, (ax1, ax2) = plt.subplots(1, 2, figsize=(14, 6))\n",
        "\n",
        "# Gráfico de rendimiento por aspecto\n",
        "aspects = list(panel_summary['aspect_performance'].keys())\n",
        "scores = list(panel_summary['aspect_performance'].values())\n",
        "colors = plt.cm.Set3(np.linspace(0, 1, len(aspects)))\n",
        "\n",
        "bars = ax1.bar(aspects, scores, color=colors)\n",
        "ax1.set_title('📊 Rendimiento Promedio por Aspecto', fontsize=14, fontweight='bold')\n",
        "ax1.set_ylabel('Score Promedio (0-10)')\n",
        "ax1.set_ylim(0, 10)\n",
        "\n",
        "# Agregar valores en las barras\n",
        "for bar, score in zip(bars, scores):\n",
        "    height = bar.get_height()\n",
        "    ax1.text(bar.get_x() + bar.get_width()/2., height + 0.1,\n",
        "             f'{score:.1f}', ha='center', va='bottom', fontweight='bold')\n",
        "\n",
        "plt.setp(ax1.xaxis.get_majorticklabels(), rotation=45, ha='right')\n",
        "\n",
        "# Gráfico de distribución de pesos\n",
        "weights = list(panel_summary['weights_distribution'].values())\n",
        "ax2.pie(weights, labels=aspects, autopct='%1.1f%%', startangle=90, colors=colors)\n",
        "ax2.set_title('⚖️ Distribución de Pesos en Evaluación', fontsize=14, fontweight='bold')\n",
        "\n",
        "plt.tight_layout()\n",
        "plt.show()\n",
        "\n",
        "print(\"\\n✨ Panel summary visualizado exitosamente!\")"
      ]
    },
    {
      "cell_type": "markdown",
      "metadata": {
        "id": "custom_evaluation"
      },
      "source": [
        "## 8. 🔧 Evaluación Personalizada\n",
        "\n",
        "¡Ahora es tu turno! Ingresa tu propia pregunta y respuesta para ver cómo las evalúa nuestro panel de jueces."
      ]
    },
    {
      "cell_type": "code",
      "execution_count": null,
      "metadata": {
        "id": "custom_input"
      },
      "outputs": [],
      "source": [
        "# Input personalizable\n",
        "custom_prompt = \"\"\"¿Cuáles son los principales desafíos éticos de la inteligencia artificial \n",
        "y cómo deberían abordarse desde una perspectiva de política pública?\"\"\"\n",
        "\n",
        "custom_response = \"\"\"Los principales desafíos éticos de la IA incluyen:\n",
        "\n",
        "1. **Sesgo algorítmico**: Los sistemas de IA pueden perpetuar o amplificar sesgos existentes en los datos de entrenamiento.\n",
        "\n",
        "2. **Privacidad y vigilancia**: La capacidad de la IA para procesar grandes cantidades de datos personales plantea preocupaciones sobre la privacidad.\n",
        "\n",
        "3. **Transparencia y explicabilidad**: Los modelos de \"caja negra\" dificultan entender cómo se toman las decisiones.\n",
        "\n",
        "4. **Responsabilidad**: ¿Quién es responsable cuando un sistema de IA causa daño?\n",
        "\n",
        "Desde política pública, se debe:\n",
        "- Establecer marcos regulatorios claros pero flexibles\n",
        "- Promover auditorías algorítmicas obligatorias\n",
        "- Invertir en educación y capacitación ética para desarrolladores\n",
        "- Fomentar la participación ciudadana en el desarrollo de políticas de IA\"\"\"\n",
        "\n",
        "print(\"🔧 Evaluación Personalizada\")\n",
        "print(\"=\" * 50)\n",
        "print(f\"❓ Pregunta: {custom_prompt}\")\n",
        "print(f\"\\n📝 Respuesta a evaluar:\")\n",
        "print(custom_response)\n",
        "print(\"\\n\" + \"=\" * 60)"
      ]
    },
    {
      "cell_type": "code",
      "execution_count": null,
      "metadata": {
        "id": "run_custom_evaluation"
      },
      "outputs": [],
      "source": [
        "# Ejecutar evaluación personalizada\n",
        "print(\"🏛️ Evaluando respuesta personalizada...\\n\")\n",
        "\n",
        "custom_evaluation = evaluator.evaluate(\n",
        "    prompt=custom_prompt,\n",
        "    response=custom_response,\n",
        "    domain=\"AI Ethics & Policy\",\n",
        "    include_automatic_metrics=False  # Sin respuesta de referencia\n",
        ")\n",
        "\n",
        "print(\"🎉 ¡RESULTADOS DE TU EVALUACIÓN PERSONALIZADA!\")\n",
        "print(\"=\" * 60)\n",
        "\n",
        "print(f\"🏆 SCORE FINAL: {custom_evaluation.final_score:.1f}/10\")\n",
        "print(f\"🤝 Consenso entre jueces: {custom_evaluation.consensus_level:.1%}\")\n",
        "print(f\"⏱️ Tiempo de evaluación: {custom_evaluation.evaluation_time:.2f} segundos\")\n",
        "\n",
        "print(\"\\n📊 SCORES DETALLADOS POR JUEZ:\")\n",
        "print(\"-\" * 40)\n",
        "for aspect, score in custom_evaluation.individual_scores.items():\n",
        "    emoji = {\"precision\": \"🎯\", \"creativity\": \"🎨\", \"coherence\": \"🧠\", \n",
        "             \"relevance\": \"🎪\", \"efficiency\": \"⚡\"}.get(aspect, \"📊\")\n",
        "    print(f\"{emoji} {aspect.title():12} | {score:.1f}/10\")\n",
        "\n",
        "print(\"\\n✅ PRINCIPALES FORTALEZAS:\")\n",
        "print(\"-\" * 30)\n",
        "for i, strength in enumerate(custom_evaluation.strengths[:5], 1):\n",
        "    print(f\"{i}. {strength}\")\n",
        "\n",
        "print(\"\\n🔧 ÁREAS DE MEJORA:\")\n",
        "print(\"-\" * 20)\n",
        "for i, improvement in enumerate(custom_evaluation.improvements[:5], 1):\n",
        "    print(f\"{i}. {improvement}\")\n",
        "\n",
        "print(\"\\n🎯 ANÁLISIS DE CONSENSO:\")\n",
        "if custom_evaluation.consensus_level > 0.8:\n",
        "    print(\"✅ Alto consenso: Los jueces están muy de acuerdo en su evaluación\")\n",
        "elif custom_evaluation.consensus_level > 0.6:\n",
        "    print(\"⚖️ Consenso moderado: Hay algunas diferencias de opinión entre jueces\")\n",
        "else:\n",
        "    print(\"🤔 Bajo consenso: Los jueces tienen perspectivas muy diferentes\")\n",
        "\n",
        "print(\"\\n\" + \"=\" * 60)\n",
        "print(\"🎊 ¡Evaluación personalizada completada!\")"
      ]
    },
    {
      "cell_type": "markdown",
      "metadata": {
        "id": "conclusions"
      },
      "source": [
        "## 9. 🎯 Conclusiones y Próximos Pasos\n",
        "\n",
        "### 🔍 ¿Qué hemos aprendido?\n",
        "\n",
        "1. **Evaluación Multi-Dimensional**: Cada aspecto (precisión, creatividad, coherencia, etc.) proporciona insights únicos\n",
        "2. **Consenso vs. Discrepancia**: Cuando los jueces no están de acuerdo, indica complejidad en la evaluación\n",
        "3. **Especialización Importa**: Cada juez aporta expertise específico que enriquece la evaluación final\n",
        "4. **Interpretabilidad**: A diferencia de métricas automáticas, obtenemos explicaciones detalladas\n",
        "\n",
        "### 🚀 Ventajas del AI Judges Panel:\n",
        "- ✅ **Evaluación holística** desde múltiples perspectivas\n",
        "- ✅ **Feedback explicable** y accionable\n",
        "- ✅ **Detección de consensos** y discrepancias\n",
        "- ✅ **Adaptable** a diferentes dominios y contextos\n",
        "- ✅ **Escalable** - fácil agregar nuevos jueces especializados\n",
        "\n",
        "### 🔧 Próximos Pasos:\n",
        "1. **Experimenta** con diferentes tipos de prompts y respuestas\n",
        "2. **Personaliza pesos** según tu caso de uso específico\n",
        "3. **Agrega jueces especializados** para tu dominio\n",
        "4. **Integra métricas automáticas** reales (BLEU, ROUGE, BERTScore)\n",
        "5. **Conecta con APIs reales** de LLMs para evaluación en vivo\n",
        "\n",
        "### 📚 Para Aprender Más:\n",
        "- Revisa `02_judge_comparison.ipynb` para análisis detallado de cada juez\n",
        "- Explora `03_model_benchmarking.ipynb` para comparar diferentes LLMs\n",
        "- Consulta `04_custom_evaluation.ipynb` para casos de uso especializados"
      ]
    },
    {
      "cell_type": "code",
      "execution_count": null,
      "metadata": {
        "id": "final_summary"
      },
      "outputs": [],
      "source": [
        "# Resumen final de la sesión\n",
        "total_evaluations = len(results) + 1  # +1 por la evaluación personalizada\n",
        "avg_final_score = np.mean([eval.final_score for eval in results.values()] + [custom_evaluation.final_score])\n",
        "avg_consensus = np.mean([eval.consensus_level for eval in results.values()] + [custom_evaluation.consensus_level])\n",
        "\n",
        "print(\"🎊 RESUMEN FINAL DE LA SESIÓN\")\n",
        "print(\"=\" * 50)\n",
        "print(f\"📊 Total de evaluaciones realizadas: {total_evaluations}\")\n",
        "print(f\"🏆 Score promedio obtenido: {avg_final_score:.1f}/10\")\n",
        "print(f\"🤝 Consenso promedio del panel: {avg_consensus:.1%}\")\n",
        "print(f\"🏛️ Jueces especializados utilizados: {len(evaluator.judges)}\")\n",
        "\n",
        "print(\"\\n🌟 ¡Gracias por explorar el AI Judges Panel!\")\n",
        "print(\"La evaluación multi-agente representa el futuro de la\")\n",
        "print(\"evaluación de IA: más robusta, interpretable y confiable.\")\n",
        "\n",
        "print(\"\\n🚀 ¡Continúa experimentando y construyendo el futuro de la evaluación de IA!\")"
      ]
    }
  ],
  "metadata": {
    "kernelspec": {
      "display_name": "Python 3",
      "language": "python",
      "name": "python3"
    },
    "language_info": {
      "codemirror_mode": {
        "name": "ipython",
        "version": 3
      },
      "file_extension": ".py",
      "mimetype": "text/x-python",
      "name": "python",
      "nbconvert_exporter": "python",
      "pygments_lexer": "ipython3",
      "version": "3.8.0"
    }
  },
  "nbformat": 4,
  "nbformat_minor": 4
}
